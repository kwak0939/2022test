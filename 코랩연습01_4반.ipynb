{
  "nbformat": 4,
  "nbformat_minor": 0,
  "metadata": {
    "colab": {
      "private_outputs": true,
      "provenance": [],
      "authorship_tag": "ABX9TyOWG0n9JKb1kFVIQ5gFuzo/",
      "include_colab_link": true
    },
    "kernelspec": {
      "name": "python3",
      "display_name": "Python 3"
    },
    "language_info": {
      "name": "python"
    },
    "accelerator": "GPU",
    "gpuClass": "standard"
  },
  "cells": [
    {
      "cell_type": "markdown",
      "metadata": {
        "id": "view-in-github",
        "colab_type": "text"
      },
      "source": [
        "<a href=\"https://colab.research.google.com/github/kwak0939/2022test/blob/main/%EC%BD%94%EB%9E%A9%EC%97%B0%EC%8A%B501_4%EB%B0%98.ipynb\" target=\"_parent\"><img src=\"https://colab.research.google.com/assets/colab-badge.svg\" alt=\"Open In Colab\"/></a>"
      ]
    },
    {
      "cell_type": "markdown",
      "source": [],
      "metadata": {
        "id": "EoQUFbTfu8Dz"
      }
    },
    {
      "cell_type": "markdown",
      "source": [
        "1. 여기에서는 코랩을 연습하는 구간입니다."
      ],
      "metadata": {
        "id": "pCf-Xquzu-vq"
      }
    },
    {
      "cell_type": "code",
      "execution_count": null,
      "metadata": {
        "id": "Vfx-gpVos0Fv"
      },
      "outputs": [],
      "source": [
        "print('대답을해라. 그래야 천당을 간다')\n",
        "print('지옥불의 뜨거운 맛을 볼수 있다.')\n"
      ]
    },
    {
      "cell_type": "code",
      "source": [
        "!apt install fonts-nanum -y\n",
        "\n",
        "import matplotlib\n",
        "import matplotlib.pyplot as plt\n",
        "import matplotlib.font_manager as fm"
      ],
      "metadata": {
        "id": "2l6eWHNWtXgZ"
      },
      "execution_count": null,
      "outputs": []
    },
    {
      "cell_type": "code",
      "source": [
        "!git clone https://github.com/ndb796/bing_image_downloader\n"
      ],
      "metadata": {
        "id": "hKEbgTjLwMyK"
      },
      "execution_count": null,
      "outputs": []
    },
    {
      "cell_type": "code",
      "source": [
        "import os\n",
        "import shutil\n",
        "from bing_image_downloader.bing_image_downloader import downloader\n",
        "\n",
        "\n",
        "directory_list = [\n",
        "    './custom_dataset/train/',\n",
        "    './custom_dataset/test/',\n",
        "]"
      ],
      "metadata": {
        "id": "ByxKnc9txzuT"
      },
      "execution_count": null,
      "outputs": []
    },
    {
      "cell_type": "code",
      "source": [
        "query = '아이유'\n",
        "downloader.download(query, limit=50,  output_dir='./', adult_filter_off=True, force_replace=False, timeout=60)"
      ],
      "metadata": {
        "id": "HUOiDJNOx-FK"
      },
      "execution_count": null,
      "outputs": []
    },
    {
      "cell_type": "code",
      "source": [
        "query = '제니'\n",
        "downloader.download(query, limit=50,  output_dir='./', adult_filter_off=True, force_replace=False, timeout=60)"
      ],
      "metadata": {
        "id": "bOAW5PlI1NMs"
      },
      "execution_count": null,
      "outputs": []
    },
    {
      "cell_type": "code",
      "source": [],
      "metadata": {
        "id": "RrgHT62X1RpF"
      },
      "execution_count": null,
      "outputs": []
    }
  ]
}