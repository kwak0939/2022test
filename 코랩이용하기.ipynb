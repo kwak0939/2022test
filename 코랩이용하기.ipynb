{
  "nbformat": 4,
  "nbformat_minor": 0,
  "metadata": {
    "colab": {
      "provenance": [],
      "private_outputs": true,
      "toc_visible": true,
      "authorship_tag": "ABX9TyN4sHnHNPh4DlF/mNhlF2OZ",
      "include_colab_link": true
    },
    "kernelspec": {
      "name": "python3",
      "display_name": "Python 3"
    },
    "language_info": {
      "name": "python"
    },
    "accelerator": "GPU",
    "gpuClass": "standard"
  },
  "cells": [
    {
      "cell_type": "markdown",
      "metadata": {
        "id": "view-in-github",
        "colab_type": "text"
      },
      "source": [
        "<a href=\"https://colab.research.google.com/github/kwak0939/2022test/blob/main/%EC%BD%94%EB%9E%A9%EC%9D%B4%EC%9A%A9%ED%95%98%EA%B8%B0.ipynb\" target=\"_parent\"><img src=\"https://colab.research.google.com/assets/colab-badge.svg\" alt=\"Open In Colab\"/></a>"
      ]
    },
    {
      "cell_type": "code",
      "source": [
        "!pip3 install ColabTurtle"
      ],
      "metadata": {
        "id": "OslhddlnBv-_"
      },
      "execution_count": null,
      "outputs": []
    },
    {
      "cell_type": "code",
      "source": [
        "import ColabTurtle.Turtle as t\n",
        "t.initializeTurtle()\n",
        "i=0\n",
        "for i in range(4):\n",
        "  t.forward(100)\n",
        "  t.left(90)\n",
        "#  t.forward(100)\n",
        "  \n",
        "\n"
      ],
      "metadata": {
        "id": "VZ7cAo0tMY4g"
      },
      "execution_count": null,
      "outputs": []
    },
    {
      "cell_type": "code",
      "execution_count": null,
      "metadata": {
        "id": "N6-uwI3uuwx2"
      },
      "outputs": [],
      "source": [
        "import pandas as pd\n",
        "import seaborn as sns\n",
        "import matplotlib.pylab as plt\n",
        "df = sns.load_dataset('car_crashes')\n",
        "df\n",
        "\n"
      ]
    },
    {
      "cell_type": "code",
      "source": [],
      "metadata": {
        "id": "PqyNi7-pSGX2"
      },
      "execution_count": null,
      "outputs": []
    }
  ]
}